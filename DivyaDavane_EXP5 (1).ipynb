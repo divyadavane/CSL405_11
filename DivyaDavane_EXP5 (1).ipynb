{
  "nbformat": 4,
  "nbformat_minor": 0,
  "metadata": {
    "colab": {
      "provenance": []
    },
    "kernelspec": {
      "name": "python3",
      "display_name": "Python 3"
    },
    "language_info": {
      "name": "python"
    }
  },
  "cells": [
    {
      "cell_type": "code",
      "execution_count": 1,
      "metadata": {
        "colab": {
          "base_uri": "https://localhost:8080/"
        },
        "id": "TM4GlP_cdRsv",
        "outputId": "a6c57184-8204-478f-9761-6689a455084f"
      },
      "outputs": [
        {
          "output_type": "stream",
          "name": "stdout",
          "text": [
            "Initial Stack\n",
            "['a', 'b', 'c']\n"
          ]
        }
      ],
      "source": [
        "stack = list ()\n",
        "\n",
        "# Append Operation\n",
        "stack.append ('a')\n",
        "stack.append ('b')\n",
        "stack.append ('c')\n",
        "print ('Initial Stack')\n",
        "print (stack)"
      ]
    },
    {
      "cell_type": "code",
      "source": [
        "print (stack.pop ())\n",
        "print (stack.pop ())\n",
        "print (stack.pop ())\n",
        "print (stack)"
      ],
      "metadata": {
        "colab": {
          "base_uri": "https://localhost:8080/"
        },
        "id": "lpvCx23mdcRr",
        "outputId": "303583bc-7921-41d1-c787-bbab19069db9"
      },
      "execution_count": 2,
      "outputs": [
        {
          "output_type": "stream",
          "name": "stdout",
          "text": [
            "c\n",
            "b\n",
            "a\n",
            "[]\n"
          ]
        }
      ]
    },
    {
      "cell_type": "code",
      "source": [
        "class StackDepth:\n",
        "    def maximumDepth(self, stringInput: str) -> int:\n",
        "        max_depth = 0\n",
        "        current_depth = 0\n",
        "\n",
        "        for char in stringInput:\n",
        "            if char == '(':\n",
        "                current_depth += 1\n",
        "                max_depth = max(max_depth, current_depth)\n",
        "            elif char == ')':\n",
        "                current_depth -= 1\n",
        "\n",
        "        return max_depth\n",
        "\n",
        "\n",
        "\n",
        "stringInput = input(\"Enter a valid parentheses string: \")\n",
        "\n",
        "\n",
        "stack_depth = StackDepth()\n",
        "\n",
        "\n",
        "result = stack_depth.maximumDepth(stringInput)\n",
        "\n",
        "\n",
        "print(f\"The maximum nesting depth is: {result}\")\n"
      ],
      "metadata": {
        "colab": {
          "base_uri": "https://localhost:8080/"
        },
        "id": "LhLgYTIZdf1H",
        "outputId": "34a84c17-b44c-4457-9ff3-ce98a0196c75"
      },
      "execution_count": 3,
      "outputs": [
        {
          "output_type": "stream",
          "name": "stdout",
          "text": [
            "Enter a valid parentheses string: (((())))4/*3))\n",
            "The maximum nesting depth is: 4\n"
          ]
        }
      ]
    }
  ]
}