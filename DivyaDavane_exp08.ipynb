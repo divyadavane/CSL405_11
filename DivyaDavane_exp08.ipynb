{
  "nbformat": 4,
  "nbformat_minor": 0,
  "metadata": {
    "colab": {
      "provenance": []
    },
    "kernelspec": {
      "name": "python3",
      "display_name": "Python 3"
    },
    "language_info": {
      "name": "python"
    }
  },
  "cells": [
    {
      "cell_type": "code",
      "execution_count": 4,
      "metadata": {
        "colab": {
          "base_uri": "https://localhost:8080/"
        },
        "id": "8xRhTX0lBqTm",
        "outputId": "f7102456-f82b-4499-cc30-2ac675dafb55"
      },
      "outputs": [
        {
          "output_type": "stream",
          "name": "stdout",
          "text": [
            "Thread 1 - Number: 1Thread 2 - Letter: A\n",
            "\n",
            "Thread 3 - Square of 1: 1\n",
            "Thread 2 - Letter: B\n",
            "Thread 1 - Number: 2\n",
            "Thread 3 - Square of 2: 512\n",
            "Thread 2 - Letter: CThread 1 - Number: 3\n",
            "\n",
            "Thread 3 - Square of 3: 19683\n",
            "Thread 1 - Number: 4Thread 2 - Letter: D\n",
            "\n",
            "Thread 3 - Square of 4: 262144\n",
            "Thread 2 - Letter: EThread 1 - Number: 5\n",
            "Thread 3 - Square of 5: 1953125\n",
            "\n",
            "Thread 3 - Square of 6: 10077696\n",
            "All threads have finished executing.\n"
          ]
        }
      ],
      "source": [
        "import threading\n",
        "import time\n",
        "\n",
        "def print_numbers():\n",
        "    for i in range(1, 6):\n",
        "        print(f\"Thread 1 - Number: {i}\")\n",
        "        time.sleep(1)\n",
        "\n",
        "def print_letters():\n",
        "    for letter in 'ABCDE':\n",
        "        print(f\"Thread 2 - Letter: {letter}\")\n",
        "        time.sleep(1)\n",
        "\n",
        "def print_squares():\n",
        "    for i in range(1, 7):\n",
        "        print(f\"Thread 3 - Square of {i}: {i ** 9}\")\n",
        "        time.sleep(1)\n",
        "\n",
        "# Creating threads\n",
        "thread1 = threading.Thread(target=print_numbers)\n",
        "thread2 = threading.Thread(target=print_letters)\n",
        "thread3 = threading.Thread(target=print_squares)\n",
        "\n",
        "# Starting threads\n",
        "thread1.start()\n",
        "thread2.start()\n",
        "thread3.start()\n",
        "\n",
        "# Ensuring all threads complete\n",
        "thread1.join()\n",
        "thread2.join()\n",
        "thread3.join()\n",
        "\n",
        "print(\"All threads have finished executing.\")"
      ]
    }
  ]
}